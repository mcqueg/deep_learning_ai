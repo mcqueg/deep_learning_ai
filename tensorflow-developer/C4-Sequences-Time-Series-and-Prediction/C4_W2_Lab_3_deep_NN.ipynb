{
 "cells": [
  {
   "cell_type": "markdown",
   "metadata": {
    "id": "J07BQ1EPUQUs"
   },
   "source": [
    "<a href=\"https://colab.research.google.com/github/https-deeplearning-ai/tensorflow-1-public/blob/main/C4/W2/ungraded_labs/C4_W2_Lab_3_deep_NN.ipynb\" target=\"_parent\"><img src=\"https://colab.research.google.com/assets/colab-badge.svg\" alt=\"Open In Colab\"/></a>"
   ]
  },
  {
   "cell_type": "markdown",
   "metadata": {
    "id": "dxFGlX1S53mg"
   },
   "source": [
    "# Ungraded Lab: Training a Deep Neural Network with Time Series Data\n",
    "\n",
    "In this lab, you will build upon the previous exercise and add more dense layers to your network. You will also look at a technique to tune the model's learning rate to make the weights converge faster. This is a useful tip so you can avoid guessing the learning rate before training.\n",
    "\n",
    "The initial steps will be identical to the previous lab so you can run the next cells until the `Build the Model` section. That's where the discussions begin."
   ]
  },
  {
   "cell_type": "markdown",
   "metadata": {
    "id": "w5S4XCUZ6GH7"
   },
   "source": [
    "## Imports"
   ]
  },
  {
   "cell_type": "code",
   "execution_count": 1,
   "metadata": {
    "executionInfo": {
     "elapsed": 7396,
     "status": "ok",
     "timestamp": 1655245512832,
     "user": {
      "displayName": "Garrett McCue",
      "userId": "12434656186696613657"
     },
     "user_tz": 300
    },
    "id": "BOjujz601HcS"
   },
   "outputs": [],
   "source": [
    "import tensorflow as tf\n",
    "import numpy as np\n",
    "import matplotlib.pyplot as plt"
   ]
  },
  {
   "cell_type": "markdown",
   "metadata": {
    "id": "tjC8TSkp6IiH"
   },
   "source": [
    "## Utilities"
   ]
  },
  {
   "cell_type": "code",
   "execution_count": 2,
   "metadata": {
    "executionInfo": {
     "elapsed": 170,
     "status": "ok",
     "timestamp": 1655245527261,
     "user": {
      "displayName": "Garrett McCue",
      "userId": "12434656186696613657"
     },
     "user_tz": 300
    },
    "id": "Zswl7jRtGzkk"
   },
   "outputs": [],
   "source": [
    "def plot_series(time, series, format=\"-\", start=0, end=None):\n",
    "    \"\"\"\n",
    "    Visualizes time series data\n",
    "\n",
    "    Args:\n",
    "      time (array of int) - contains the time steps\n",
    "      series (array of int) - contains the measurements for each time step\n",
    "      format - line style when plotting the graph\n",
    "      label - tag for the line\n",
    "      start - first time step to plot\n",
    "      end - last time step to plot\n",
    "    \"\"\"\n",
    "\n",
    "    # Setup dimensions of the graph figure\n",
    "    plt.figure(figsize=(10, 6))\n",
    "    \n",
    "    if type(series) is tuple:\n",
    "\n",
    "      for series_num in series:\n",
    "        # Plot the time series data\n",
    "        plt.plot(time[start:end], series_num[start:end], format)\n",
    "\n",
    "    else:\n",
    "      # Plot the time series data\n",
    "      plt.plot(time[start:end], series[start:end], format)\n",
    "\n",
    "    # Label the x-axis\n",
    "    plt.xlabel(\"Time\")\n",
    "\n",
    "    # Label the y-axis\n",
    "    plt.ylabel(\"Value\")\n",
    "\n",
    "    # Overlay a grid on the graph\n",
    "    plt.grid(True)\n",
    "\n",
    "    # Draw the graph on screen\n",
    "    plt.show()\n",
    "\n",
    "def trend(time, slope=0):\n",
    "    \"\"\"\n",
    "    Generates synthetic data that follows a straight line given a slope value.\n",
    "\n",
    "    Args:\n",
    "      time (array of int) - contains the time steps\n",
    "      slope (float) - determines the direction and steepness of the line\n",
    "\n",
    "    Returns:\n",
    "      series (array of float) - measurements that follow a straight line\n",
    "    \"\"\"\n",
    "\n",
    "    # Compute the linear series given the slope\n",
    "    series = slope * time\n",
    "\n",
    "    return series\n",
    "\n",
    "def seasonal_pattern(season_time):\n",
    "    \"\"\"\n",
    "    Just an arbitrary pattern, you can change it if you wish\n",
    "    \n",
    "    Args:\n",
    "      season_time (array of float) - contains the measurements per time step\n",
    "\n",
    "    Returns:\n",
    "      data_pattern (array of float) -  contains revised measurement values according \n",
    "                                  to the defined pattern\n",
    "    \"\"\"\n",
    "\n",
    "    # Generate the values using an arbitrary pattern\n",
    "    data_pattern = np.where(season_time < 0.4,\n",
    "                    np.cos(season_time * 2 * np.pi),\n",
    "                    1 / np.exp(3 * season_time))\n",
    "    \n",
    "    return data_pattern\n",
    "\n",
    "def seasonality(time, period, amplitude=1, phase=0):\n",
    "    \"\"\"\n",
    "    Repeats the same pattern at each period\n",
    "\n",
    "    Args:\n",
    "      time (array of int) - contains the time steps\n",
    "      period (int) - number of time steps before the pattern repeats\n",
    "      amplitude (int) - peak measured value in a period\n",
    "      phase (int) - number of time steps to shift the measured values\n",
    "\n",
    "    Returns:\n",
    "      data_pattern (array of float) - seasonal data scaled by the defined amplitude\n",
    "    \"\"\"\n",
    "    \n",
    "    # Define the measured values per period\n",
    "    season_time = ((time + phase) % period) / period\n",
    "\n",
    "    # Generates the seasonal data scaled by the defined amplitude\n",
    "    data_pattern = amplitude * seasonal_pattern(season_time)\n",
    "\n",
    "    return data_pattern\n",
    "\n",
    "def noise(time, noise_level=1, seed=None):\n",
    "    \"\"\"Generates a normally distributed noisy signal\n",
    "\n",
    "    Args:\n",
    "      time (array of int) - contains the time steps\n",
    "      noise_level (float) - scaling factor for the generated signal\n",
    "      seed (int) - number generator seed for repeatability\n",
    "\n",
    "    Returns:\n",
    "      noise (array of float) - the noisy signal\n",
    "    \"\"\"\n",
    "\n",
    "    # Initialize the random number generator\n",
    "    rnd = np.random.RandomState(seed)\n",
    "\n",
    "    # Generate a random number for each time step and scale by the noise level\n",
    "    noise = rnd.randn(len(time)) * noise_level\n",
    "    \n",
    "    return noise"
   ]
  },
  {
   "cell_type": "markdown",
   "metadata": {
    "id": "Z1CL6Bh86TS1"
   },
   "source": [
    "## Generate the Synthetic Data"
   ]
  },
  {
   "cell_type": "code",
   "execution_count": 3,
   "metadata": {
    "colab": {
     "base_uri": "https://localhost:8080/",
     "height": 388
    },
    "executionInfo": {
     "elapsed": 523,
     "status": "ok",
     "timestamp": 1655245541043,
     "user": {
      "displayName": "Garrett McCue",
      "userId": "12434656186696613657"
     },
     "user_tz": 300
    },
    "id": "5MFtI3X1FErU",
    "outputId": "04d7a3dc-7551-44d2-fbbe-25db587ea35f"
   },
   "outputs": [
    {
     "data": {
      "image/png": "[encoded data removed]",
      "text/plain": [
       "<Figure size 720x432 with 1 Axes>"
      ]
     },
     "metadata": {
      "needs_background": "light"
     },
     "output_type": "display_data"
    }
   ],
   "source": [
    "# Parameters\n",
    "time = np.arange(4 * 365 + 1, dtype=\"float32\")\n",
    "baseline = 10\n",
    "amplitude = 40\n",
    "slope = 0.05\n",
    "noise_level = 5\n",
    "\n",
    "# Create the series\n",
    "series = baseline + trend(time, slope) + seasonality(time, period=365, amplitude=amplitude)\n",
    "\n",
    "# Update with noise\n",
    "series += noise(time, noise_level, seed=42)\n",
    "\n",
    "# Plot the results\n",
    "plot_series(time, series)"
   ]
  },
  {
   "cell_type": "markdown",
   "metadata": {
    "id": "t2YvxWcI6lnB"
   },
   "source": [
    "## Split the Dataset"
   ]
  },
  {
   "cell_type": "code",
   "execution_count": 4,
   "metadata": {
    "executionInfo": {
     "elapsed": 141,
     "status": "ok",
     "timestamp": 1655245542922,
     "user": {
      "displayName": "Garrett McCue",
      "userId": "12434656186696613657"
     },
     "user_tz": 300
    },
    "id": "Db9kkYnOFKYr"
   },
   "outputs": [],
   "source": [
    "# Define the split time\n",
    "split_time = 1000\n",
    "\n",
    "# Get the train set \n",
    "time_train = time[:split_time]\n",
    "x_train = series[:split_time]\n",
    "\n",
    "# Get the validation set\n",
    "time_valid = time[split_time:]\n",
    "x_valid = series[split_time:]"
   ]
  },
  {
   "cell_type": "markdown",
   "metadata": {
    "id": "XH-0FgXN6zHA"
   },
   "source": [
    "## Prepare Features and Labels"
   ]
  },
  {
   "cell_type": "code",
   "execution_count": 5,
   "metadata": {
    "executionInfo": {
     "elapsed": 115,
     "status": "ok",
     "timestamp": 1655245544595,
     "user": {
      "displayName": "Garrett McCue",
      "userId": "12434656186696613657"
     },
     "user_tz": 300
    },
    "id": "AyBwNWO1FVTS"
   },
   "outputs": [],
   "source": [
    "# Parameters\n",
    "window_size = 20\n",
    "batch_size = 32\n",
    "shuffle_buffer_size = 1000"
   ]
  },
  {
   "cell_type": "code",
   "execution_count": 6,
   "metadata": {
    "executionInfo": {
     "elapsed": 3,
     "status": "ok",
     "timestamp": 1655245545564,
     "user": {
      "displayName": "Garrett McCue",
      "userId": "12434656186696613657"
     },
     "user_tz": 300
    },
    "id": "4sTTIOCbyShY"
   },
   "outputs": [],
   "source": [
    "def windowed_dataset(series, window_size, batch_size, shuffle_buffer):\n",
    "    \"\"\"Generates dataset windows\n",
    "\n",
    "    Args:\n",
    "      series (array of float) - contains the values of the time series\n",
    "      window_size (int) - the number of time steps to average\n",
    "      batch_size (int) - the batch size\n",
    "      shuffle_buffer(int) - buffer size to use for the shuffle method\n",
    "\n",
    "    Returns:\n",
    "      dataset (TF Dataset) - TF Dataset containing time windows\n",
    "    \"\"\"\n",
    "  \n",
    "    # Generate a TF Dataset from the series values\n",
    "    dataset = tf.data.Dataset.from_tensor_slices(series)\n",
    "    \n",
    "    # Window the data but only take those with the specified size\n",
    "    dataset = dataset.window(window_size + 1, shift=1, drop_remainder=True)\n",
    "    \n",
    "    # Flatten the windows by putting its elements in a single batch\n",
    "    dataset = dataset.flat_map(lambda window: window.batch(window_size + 1))\n",
    "\n",
    "    # Create tuples with features and labels \n",
    "    dataset = dataset.map(lambda window: (window[:-1], window[-1]))\n",
    "\n",
    "    # Shuffle the windows\n",
    "    dataset = dataset.shuffle(shuffle_buffer)\n",
    "    \n",
    "    # Create batches of windows\n",
    "    dataset = dataset.batch(batch_size).prefetch(1)\n",
    "    \n",
    "    return dataset"
   ]
  },
  {
   "cell_type": "code",
   "execution_count": 7,
   "metadata": {
    "executionInfo": {
     "elapsed": 446,
     "status": "ok",
     "timestamp": 1655245548168,
     "user": {
      "displayName": "Garrett McCue",
      "userId": "12434656186696613657"
     },
     "user_tz": 300
    },
    "id": "AdNN0s9qFnTg"
   },
   "outputs": [],
   "source": [
    "# Generate the dataset windows\n",
    "dataset = windowed_dataset(x_train, window_size, batch_size, shuffle_buffer_size)"
   ]
  },
  {
   "cell_type": "markdown",
   "metadata": {
    "id": "ths8EcjQ7CG3"
   },
   "source": [
    "## Build the Model\n",
    "\n",
    "You will use three dense layers in this exercise as shown below. As expected, the number of trainable parameters will increase and the model summary shows that it is more than tenfold of the previous lab."
   ]
  },
  {
   "cell_type": "code",
   "execution_count": 8,
   "metadata": {
    "colab": {
     "base_uri": "https://localhost:8080/"
    },
    "executionInfo": {
     "elapsed": 354,
     "status": "ok",
     "timestamp": 1655245560021,
     "user": {
      "displayName": "Garrett McCue",
      "userId": "12434656186696613657"
     },
     "user_tz": 300
    },
    "id": "TW-vT7eLYAdb",
    "outputId": "1d54d604-9ddc-459c-9af0-7bb1c9022a79"
   },
   "outputs": [
    {
     "name": "stdout",
     "output_type": "stream",
     "text": [
      "Model: \"sequential\"\n",
      "_________________________________________________________________\n",
      " Layer (type)                Output Shape              Param #   \n",
      "=================================================================\n",
      " dense (Dense)               (None, 10)                210       \n",
      "                                                                 \n",
      " dense_1 (Dense)             (None, 10)                110       \n",
      "                                                                 \n",
      " dense_2 (Dense)             (None, 1)                 11        \n",
      "                                                                 \n",
      "=================================================================\n",
      "Total params: 331\n",
      "Trainable params: 331\n",
      "Non-trainable params: 0\n",
      "_________________________________________________________________\n"
     ]
    }
   ],
   "source": [
    "# Build the model\n",
    "model_baseline = tf.keras.models.Sequential([\n",
    "    tf.keras.layers.Dense(10, input_shape=[window_size], activation=\"relu\"), \n",
    "    tf.keras.layers.Dense(10, activation=\"relu\"), \n",
    "    tf.keras.layers.Dense(1)\n",
    "])\n",
    "\n",
    "# Print the model summary\n",
    "model_baseline.summary()"
   ]
  },
  {
   "cell_type": "markdown",
   "metadata": {
    "id": "4xWDKTGR7XQd"
   },
   "source": [
    "## Train the Model\n",
    "\n",
    "You will then compile and train the model using the same settings as before. Observe how the loss is decreasing because you will revisit it later in this lab."
   ]
  },
  {
   "cell_type": "code",
   "execution_count": 9,
   "metadata": {
    "executionInfo": {
     "elapsed": 321,
     "status": "ok",
     "timestamp": 1655245566815,
     "user": {
      "displayName": "Garrett McCue",
      "userId": "12434656186696613657"
     },
     "user_tz": 300
    },
    "id": "unwiKhWn7nqS"
   },
   "outputs": [],
   "source": [
    "# Set the training parameters\n",
    "model_baseline.compile(loss=\"mse\", optimizer=tf.keras.optimizers.SGD(learning_rate=1e-6, momentum=0.9))"
   ]
  },
  {
   "cell_type": "code",
   "execution_count": 10,
   "metadata": {
    "colab": {
     "base_uri": "https://localhost:8080/"
    },
    "executionInfo": {
     "elapsed": 29071,
     "status": "ok",
     "timestamp": 1655245601658,
     "user": {
      "displayName": "Garrett McCue",
      "userId": "12434656186696613657"
     },
     "user_tz": 300
    },
    "id": "zqVlvuneFqJz",
    "outputId": "06bfdf6f-cff2-43b6-a114-4f7fcc87bcdb"
   },
   "outputs": [
    {
     "name": "stdout",
     "output_type": "stream",
     "text": [
      "Epoch 1/100\n",
      "31/31 [==============================] - 1s 13ms/step - loss: 803.4531\n",
      "Epoch 2/100\n",
      "31/31 [==============================] - 0s 1ms/step - loss: 121.5035\n",
      "Epoch 3/100\n",
      "31/31 [==============================] - 0s 2ms/step - loss: 98.2608\n",
      "Epoch 4/100\n",
      "31/31 [==============================] - 0s 1ms/step - loss: 90.7698\n",
      "Epoch 5/100\n",
      "31/31 [==============================] - 0s 2ms/step - loss: 83.5845\n",
      "Epoch 6/100\n",
      "31/31 [==============================] - 0s 2ms/step - loss: 78.1553\n",
      "Epoch 7/100\n",
      "31/31 [==============================] - 0s 2ms/step - loss: 73.8213\n",
      "Epoch 8/100\n",
      "31/31 [==============================] - 0s 1ms/step - loss: 70.2654\n",
      "Epoch 9/100\n",
      "31/31 [==============================] - 0s 2ms/step - loss: 67.8774\n",
      "Epoch 10/100\n",
      "31/31 [==============================] - 0s 2ms/step - loss: 65.8254\n",
      "Epoch 11/100\n",
      "31/31 [==============================] - 0s 2ms/step - loss: 64.0500\n",
      "Epoch 12/100\n",
      "31/31 [==============================] - 0s 1ms/step - loss: 62.7978\n",
      "Epoch 13/100\n",
      "31/31 [==============================] - 0s 1ms/step - loss: 61.4660\n",
      "Epoch 14/100\n",
      "31/31 [==============================] - 0s 2ms/step - loss: 59.9056\n",
      "Epoch 15/100\n",
      "31/31 [==============================] - 0s 2ms/step - loss: 59.0841\n",
      "Epoch 16/100\n",
      "31/31 [==============================] - 0s 1ms/step - loss: 58.2343\n",
      "Epoch 17/100\n",
      "31/31 [==============================] - 0s 2ms/step - loss: 57.4288\n",
      "Epoch 18/100\n",
      "31/31 [==============================] - 0s 2ms/step - loss: 57.1675\n",
      "Epoch 19/100\n",
      "31/31 [==============================] - 0s 2ms/step - loss: 56.6452\n",
      "Epoch 20/100\n",
      "31/31 [==============================] - 0s 1ms/step - loss: 55.9038\n",
      "Epoch 21/100\n",
      "31/31 [==============================] - 0s 2ms/step - loss: 56.3096\n",
      "Epoch 22/100\n",
      "31/31 [==============================] - 0s 1ms/step - loss: 55.0961\n",
      "Epoch 23/100\n",
      "31/31 [==============================] - 0s 1ms/step - loss: 54.5169\n",
      "Epoch 24/100\n",
      "31/31 [==============================] - 0s 1ms/step - loss: 54.3149\n",
      "Epoch 25/100\n",
      "31/31 [==============================] - 0s 2ms/step - loss: 54.0118\n",
      "Epoch 26/100\n",
      "31/31 [==============================] - 0s 2ms/step - loss: 53.5107\n",
      "Epoch 27/100\n",
      "31/31 [==============================] - 0s 1ms/step - loss: 53.4627\n",
      "Epoch 28/100\n",
      "31/31 [==============================] - 0s 2ms/step - loss: 52.8459\n",
      "Epoch 29/100\n",
      "31/31 [==============================] - 0s 1ms/step - loss: 52.9017\n",
      "Epoch 30/100\n",
      "31/31 [==============================] - 0s 1ms/step - loss: 52.7284\n",
      "Epoch 31/100\n",
      "31/31 [==============================] - 0s 1ms/step - loss: 52.2543\n",
      "Epoch 32/100\n",
      "31/31 [==============================] - 0s 1ms/step - loss: 51.7846\n",
      "Epoch 33/100\n",
      "31/31 [==============================] - 0s 1ms/step - loss: 51.7528\n",
      "Epoch 34/100\n",
      "31/31 [==============================] - 0s 1ms/step - loss: 51.4991\n",
      "Epoch 35/100\n",
      "31/31 [==============================] - 0s 2ms/step - loss: 51.3410\n",
      "Epoch 36/100\n",
      "31/31 [==============================] - 0s 6ms/step - loss: 51.2842\n",
      "Epoch 37/100\n",
      "31/31 [==============================] - 0s 2ms/step - loss: 50.9761\n",
      "Epoch 38/100\n",
      "31/31 [==============================] - 0s 1ms/step - loss: 50.3631\n",
      "Epoch 39/100\n",
      "31/31 [==============================] - 0s 5ms/step - loss: 50.9711\n",
      "Epoch 40/100\n",
      "31/31 [==============================] - 0s 1ms/step - loss: 50.1757\n",
      "Epoch 41/100\n",
      "31/31 [==============================] - 0s 1ms/step - loss: 49.8933\n",
      "Epoch 42/100\n",
      "31/31 [==============================] - 0s 2ms/step - loss: 49.8581\n",
      "Epoch 43/100\n",
      "31/31 [==============================] - 0s 2ms/step - loss: 50.5548\n",
      "Epoch 44/100\n",
      "31/31 [==============================] - 0s 1ms/step - loss: 49.7828\n",
      "Epoch 45/100\n",
      "31/31 [==============================] - 0s 1ms/step - loss: 49.4275\n",
      "Epoch 46/100\n",
      "31/31 [==============================] - 0s 1ms/step - loss: 49.0157\n",
      "Epoch 47/100\n",
      "31/31 [==============================] - 0s 1ms/step - loss: 48.8988\n",
      "Epoch 48/100\n",
      "31/31 [==============================] - 0s 2ms/step - loss: 48.4856\n",
      "Epoch 49/100\n",
      "31/31 [==============================] - 0s 1ms/step - loss: 48.6927\n",
      "Epoch 50/100\n",
      "31/31 [==============================] - 0s 2ms/step - loss: 48.7043\n",
      "Epoch 51/100\n",
      "31/31 [==============================] - 0s 2ms/step - loss: 48.6594\n",
      "Epoch 52/100\n",
      "31/31 [==============================] - 0s 2ms/step - loss: 48.2497\n",
      "Epoch 53/100\n",
      "31/31 [==============================] - 0s 2ms/step - loss: 48.0394\n",
      "Epoch 54/100\n",
      "31/31 [==============================] - 0s 2ms/step - loss: 48.5648\n",
      "Epoch 55/100\n",
      "31/31 [==============================] - 0s 2ms/step - loss: 48.0809\n",
      "Epoch 56/100\n",
      "31/31 [==============================] - 0s 2ms/step - loss: 47.7019\n",
      "Epoch 57/100\n",
      "31/31 [==============================] - 0s 1ms/step - loss: 47.5267\n",
      "Epoch 58/100\n",
      "31/31 [==============================] - 0s 2ms/step - loss: 47.5949\n",
      "Epoch 59/100\n",
      "31/31 [==============================] - 0s 2ms/step - loss: 47.4265\n",
      "Epoch 60/100\n",
      "31/31 [==============================] - 0s 1ms/step - loss: 47.2410\n",
      "Epoch 61/100\n",
      "31/31 [==============================] - 0s 2ms/step - loss: 47.1954\n",
      "Epoch 62/100\n",
      "31/31 [==============================] - 0s 1ms/step - loss: 46.7570\n",
      "Epoch 63/100\n",
      "31/31 [==============================] - 0s 2ms/step - loss: 46.6349\n",
      "Epoch 64/100\n",
      "31/31 [==============================] - 0s 2ms/step - loss: 46.5644\n",
      "Epoch 65/100\n",
      "31/31 [==============================] - 0s 2ms/step - loss: 46.6013\n",
      "Epoch 66/100\n",
      "31/31 [==============================] - 0s 1ms/step - loss: 46.2880\n",
      "Epoch 67/100\n",
      "31/31 [==============================] - 0s 2ms/step - loss: 45.8127\n",
      "Epoch 68/100\n",
      "31/31 [==============================] - 0s 2ms/step - loss: 45.7371\n",
      "Epoch 69/100\n",
      "31/31 [==============================] - 0s 1ms/step - loss: 45.6486\n",
      "Epoch 70/100\n",
      "31/31 [==============================] - 0s 2ms/step - loss: 46.0439\n",
      "Epoch 71/100\n",
      "31/31 [==============================] - 0s 1ms/step - loss: 45.8243\n",
      "Epoch 72/100\n",
      "31/31 [==============================] - 0s 2ms/step - loss: 45.4824\n",
      "Epoch 73/100\n",
      "31/31 [==============================] - 0s 1ms/step - loss: 44.9980\n",
      "Epoch 74/100\n",
      "31/31 [==============================] - 0s 1ms/step - loss: 45.0180\n",
      "Epoch 75/100\n",
      "31/31 [==============================] - 0s 2ms/step - loss: 44.9659\n",
      "Epoch 76/100\n",
      "31/31 [==============================] - 0s 2ms/step - loss: 45.3396\n",
      "Epoch 77/100\n",
      "31/31 [==============================] - 0s 1ms/step - loss: 45.0925\n",
      "Epoch 78/100\n",
      "31/31 [==============================] - 0s 2ms/step - loss: 45.2917\n",
      "Epoch 79/100\n",
      "31/31 [==============================] - 0s 2ms/step - loss: 44.8538\n",
      "Epoch 80/100\n",
      "31/31 [==============================] - 0s 2ms/step - loss: 44.6240\n",
      "Epoch 81/100\n",
      "31/31 [==============================] - 0s 1ms/step - loss: 44.8889\n",
      "Epoch 82/100\n",
      "31/31 [==============================] - 0s 1ms/step - loss: 44.4264\n",
      "Epoch 83/100\n",
      "31/31 [==============================] - 0s 1ms/step - loss: 44.6693\n",
      "Epoch 84/100\n",
      "31/31 [==============================] - 0s 2ms/step - loss: 44.6143\n",
      "Epoch 85/100\n",
      "31/31 [==============================] - 0s 2ms/step - loss: 44.8226\n",
      "Epoch 86/100\n",
      "31/31 [==============================] - 0s 2ms/step - loss: 45.2641\n",
      "Epoch 87/100\n",
      "31/31 [==============================] - 0s 1ms/step - loss: 44.3894\n",
      "Epoch 88/100\n",
      "31/31 [==============================] - 0s 2ms/step - loss: 44.4958\n",
      "Epoch 89/100\n",
      "31/31 [==============================] - 0s 2ms/step - loss: 44.1394\n",
      "Epoch 90/100\n",
      "31/31 [==============================] - 0s 2ms/step - loss: 44.0223\n",
      "Epoch 91/100\n",
      "31/31 [==============================] - 0s 2ms/step - loss: 43.7160\n",
      "Epoch 92/100\n",
      "31/31 [==============================] - 0s 2ms/step - loss: 44.0417\n",
      "Epoch 93/100\n",
      "31/31 [==============================] - 0s 2ms/step - loss: 44.6341\n",
      "Epoch 94/100\n",
      "31/31 [==============================] - 0s 2ms/step - loss: 43.7422\n",
      "Epoch 95/100\n",
      "31/31 [==============================] - 0s 2ms/step - loss: 43.5213\n",
      "Epoch 96/100\n",
      "31/31 [==============================] - 0s 2ms/step - loss: 43.5062\n",
      "Epoch 97/100\n",
      "31/31 [==============================] - 0s 2ms/step - loss: 43.3761\n",
      "Epoch 98/100\n",
      "31/31 [==============================] - 0s 1ms/step - loss: 43.3778\n",
      "Epoch 99/100\n",
      "31/31 [==============================] - 0s 3ms/step - loss: 43.9592\n",
      "Epoch 100/100\n",
      "31/31 [==============================] - 0s 2ms/step - loss: 43.4845\n"
     ]
    },
    {
     "data": {
      "text/plain": [
       "<keras.callbacks.History at 0x7f92f9d44450>"
      ]
     },
     "execution_count": 10,
     "metadata": {},
     "output_type": "execute_result"
    }
   ],
   "source": [
    "# Train the model\n",
    "model_baseline.fit(dataset,epochs=100)"
   ]
  },
  {
   "cell_type": "markdown",
   "metadata": {
    "id": "0-5QVzo1Tv-_"
   },
   "source": [
    "You can then get some predictions and visualize it as before. Since the network is deeper, the predictions might go slower so you may want to minimize unnecessary computations. \n",
    "\n",
    "In the previous lab, you might remember the model generating predictions using the entire `series` data. That resulted in 1,441 points in the `forecast` list then you sliced the 461 points that aligns with the validation set using `forecast = forecast[split_time - window_size:]`. \n",
    "\n",
    "You can make this process faster by just generating 461 points right from the start. That way, you don't waste time predicting points that will just be thrown away later. The code below will do just that. It will just get the points needed from the original `series` before calling the `predict()` method. With that, all predictions will align with the validation set already and the for-loop will run for only 461 times instead of 1,441. \n",
    "\n",
    "In the next lab, you'll see an even faster way to generate these predictions."
   ]
  },
  {
   "cell_type": "code",
   "execution_count": 11,
   "metadata": {
    "colab": {
     "base_uri": "https://localhost:8080/",
     "height": 388
    },
    "executionInfo": {
     "elapsed": 23271,
     "status": "ok",
     "timestamp": 1655245690119,
     "user": {
      "displayName": "Garrett McCue",
      "userId": "12434656186696613657"
     },
     "user_tz": 300
    },
    "id": "efhco2rYyIFF",
    "outputId": "bb15c584-300f-41d2-ae08-e1aacd561e37"
   },
   "outputs": [
    {
     "data": {
      "image/png": "[encoded data removed]",
      "text/plain": [
       "<Figure size 720x432 with 1 Axes>"
      ]
     },
     "metadata": {
      "needs_background": "light"
     },
     "output_type": "display_data"
    }
   ],
   "source": [
    "# Initialize a list\n",
    "forecast = []\n",
    "\n",
    "# Reduce the original series\n",
    "forecast_series = series[split_time - window_size:]\n",
    "\n",
    "# Use the model to predict data points per window size\n",
    "for time in range(len(forecast_series) - window_size):\n",
    "  forecast.append(model_baseline.predict(forecast_series[time:time + window_size][np.newaxis]))\n",
    "\n",
    "# Convert to a numpy array and drop single dimensional axes\n",
    "results = np.array(forecast).squeeze()\n",
    "\n",
    "# Plot the results\n",
    "plot_series(time_valid, (x_valid, results))"
   ]
  },
  {
   "cell_type": "markdown",
   "metadata": {
    "id": "Lk5VkqNjh8Ws"
   },
   "source": [
    "You can then get the MSE and MAE for reference."
   ]
  },
  {
   "cell_type": "code",
   "execution_count": 12,
   "metadata": {
    "colab": {
     "base_uri": "https://localhost:8080/"
    },
    "executionInfo": {
     "elapsed": 122,
     "status": "ok",
     "timestamp": 1655245794413,
     "user": {
      "displayName": "Garrett McCue",
      "userId": "12434656186696613657"
     },
     "user_tz": 300
    },
    "id": "-kT6j186YO6K",
    "outputId": "b4e4ef76-dc7d-40f9-f102-fa33697e48c3"
   },
   "outputs": [
    {
     "name": "stdout",
     "output_type": "stream",
     "text": [
      "43.042667\n",
      "4.784069\n"
     ]
    }
   ],
   "source": [
    "# Compute the metrics\n",
    "print(tf.keras.metrics.mean_squared_error(x_valid, results).numpy())\n",
    "print(tf.keras.metrics.mean_absolute_error(x_valid, results).numpy())"
   ]
  },
  {
   "cell_type": "markdown",
   "metadata": {
    "id": "tQB2gyq18YvD"
   },
   "source": [
    "## Tune the learning rate\n",
    "\n",
    "You saw that the training went well with the initial learning rate that you chose (i.e. `1e-6`). However, you're not yet sure if it is the best setting for this particular model. It might seem inconsequential in this simple model but when you have more complex ones, spending some time to tune the learning rate can lead to better training results. You will see how to do that in this section.\n",
    "\n",
    "First, you will build the same model architecture you just used."
   ]
  },
  {
   "cell_type": "code",
   "execution_count": 15,
   "metadata": {
    "executionInfo": {
     "elapsed": 126,
     "status": "ok",
     "timestamp": 1655245862279,
     "user": {
      "displayName": "Garrett McCue",
      "userId": "12434656186696613657"
     },
     "user_tz": 300
    },
    "id": "tnCe_nBKu7RB"
   },
   "outputs": [],
   "source": [
    "# Build the Model\n",
    "model_tune = tf.keras.models.Sequential([\n",
    "    tf.keras.layers.Dense(10, input_shape=[window_size], activation=\"relu\"), \n",
    "    tf.keras.layers.Dense(10, activation=\"relu\"), \n",
    "    tf.keras.layers.Dense(1)\n",
    "])"
   ]
  },
  {
   "cell_type": "markdown",
   "metadata": {
    "id": "CTSWS74Qj-G0"
   },
   "source": [
    "Next, you will declare a [learning rate scheduler](https://www.tensorflow.org/api_docs/python/tf/keras/callbacks/LearningRateScheduler) callback. This will allow you to dynamically set the learning rate based on the epoch number during training. As shown below, you will pass a lambda function to declare the value of the learning rate. It will start at `1e-8` at epoch 0 and is scaled by `10**(epoch / 20)` as the training goes on."
   ]
  },
  {
   "cell_type": "code",
   "execution_count": 16,
   "metadata": {
    "executionInfo": {
     "elapsed": 126,
     "status": "ok",
     "timestamp": 1655245863431,
     "user": {
      "displayName": "Garrett McCue",
      "userId": "12434656186696613657"
     },
     "user_tz": 300
    },
    "id": "6FDVah6-885n"
   },
   "outputs": [],
   "source": [
    "# Set the learning rate scheduler\n",
    "lr_schedule = tf.keras.callbacks.LearningRateScheduler(\n",
    "    lambda epoch: 1e-8 * 10**(epoch / 20))"
   ]
  },
  {
   "cell_type": "markdown",
   "metadata": {
    "id": "M4SJZxL1lqPX"
   },
   "source": [
    "You will then compile the model. Just to note a subtle difference with the lecture video, you don't have to set the `learning_rate` argument of the optimizer here before compiling. You can just leave the default (i.e. [`0.01` for SGD](https://www.tensorflow.org/api_docs/python/tf/keras/optimizers/SGD#args)) and allow the learning rate scheduler to set it dynamically."
   ]
  },
  {
   "cell_type": "code",
   "execution_count": 17,
   "metadata": {
    "executionInfo": {
     "elapsed": 2,
     "status": "ok",
     "timestamp": 1655245864710,
     "user": {
      "displayName": "Garrett McCue",
      "userId": "12434656186696613657"
     },
     "user_tz": 300
    },
    "id": "66MDQGRc9AKU"
   },
   "outputs": [],
   "source": [
    "# Initialize the optimizer\n",
    "optimizer = tf.keras.optimizers.SGD(momentum=0.9)\n",
    "\n",
    "# Set the training parameters\n",
    "model_tune.compile(loss=\"mse\", optimizer=optimizer)"
   ]
  },
  {
   "cell_type": "markdown",
   "metadata": {
    "id": "zMgbgBYzmXBi"
   },
   "source": [
    "You will pass in the `lr_schedule` callback in the `callbacks` parameter of the [`fit()`](https://www.tensorflow.org/api_docs/python/tf/keras/Model#fit) method. As you run the training below, you will see the learning rate at a particular epoch denoted by `lr` in the console output. Notice that it is increasing as expected based on the lambda function you used."
   ]
  },
  {
   "cell_type": "code",
   "execution_count": 18,
   "metadata": {
    "colab": {
     "base_uri": "https://localhost:8080/"
    },
    "executionInfo": {
     "elapsed": 27423,
     "status": "ok",
     "timestamp": 1655245897589,
     "user": {
      "displayName": "Garrett McCue",
      "userId": "12434656186696613657"
     },
     "user_tz": 300
    },
    "id": "Ef5o5DmQkuuy",
    "outputId": "1018efa2-8203-4dc1-c1b4-5b6ab9da5fc7"
   },
   "outputs": [
    {
     "name": "stdout",
     "output_type": "stream",
     "text": [
      "Epoch 1/100\n",
      "31/31 [==============================] - 0s 2ms/step - loss: 893.0712 - lr: 1.0000e-08\n",
      "Epoch 2/100\n",
      "31/31 [==============================] - 0s 2ms/step - loss: 724.4060 - lr: 1.1220e-08\n",
      "Epoch 3/100\n",
      "31/31 [==============================] - 0s 2ms/step - loss: 560.3083 - lr: 1.2589e-08\n",
      "Epoch 4/100\n",
      "31/31 [==============================] - 0s 2ms/step - loss: 423.8254 - lr: 1.4125e-08\n",
      "Epoch 5/100\n",
      "31/31 [==============================] - 0s 1ms/step - loss: 317.5924 - lr: 1.5849e-08\n",
      "Epoch 6/100\n",
      "31/31 [==============================] - 0s 2ms/step - loss: 239.1296 - lr: 1.7783e-08\n",
      "Epoch 7/100\n",
      "31/31 [==============================] - 0s 1ms/step - loss: 186.8033 - lr: 1.9953e-08\n",
      "Epoch 8/100\n",
      "31/31 [==============================] - 0s 2ms/step - loss: 154.0422 - lr: 2.2387e-08\n",
      "Epoch 9/100\n",
      "31/31 [==============================] - 0s 2ms/step - loss: 136.3292 - lr: 2.5119e-08\n",
      "Epoch 10/100\n",
      "31/31 [==============================] - 0s 2ms/step - loss: 126.9227 - lr: 2.8184e-08\n",
      "Epoch 11/100\n",
      "31/31 [==============================] - 0s 1ms/step - loss: 122.5947 - lr: 3.1623e-08\n",
      "Epoch 12/100\n",
      "31/31 [==============================] - 0s 2ms/step - loss: 120.3347 - lr: 3.5481e-08\n",
      "Epoch 13/100\n",
      "31/31 [==============================] - 0s 2ms/step - loss: 118.9600 - lr: 3.9811e-08\n",
      "Epoch 14/100\n",
      "31/31 [==============================] - 0s 2ms/step - loss: 117.6346 - lr: 4.4668e-08\n",
      "Epoch 15/100\n",
      "31/31 [==============================] - 0s 1ms/step - loss: 116.2968 - lr: 5.0119e-08\n",
      "Epoch 16/100\n",
      "31/31 [==============================] - 0s 2ms/step - loss: 114.8392 - lr: 5.6234e-08\n",
      "Epoch 17/100\n",
      "31/31 [==============================] - 0s 1ms/step - loss: 113.2393 - lr: 6.3096e-08\n",
      "Epoch 18/100\n",
      "31/31 [==============================] - 0s 2ms/step - loss: 111.5314 - lr: 7.0795e-08\n",
      "Epoch 19/100\n",
      "31/31 [==============================] - 0s 1ms/step - loss: 109.7445 - lr: 7.9433e-08\n",
      "Epoch 20/100\n",
      "31/31 [==============================] - 0s 1ms/step - loss: 107.8915 - lr: 8.9125e-08\n",
      "Epoch 21/100\n",
      "31/31 [==============================] - 0s 1ms/step - loss: 105.9122 - lr: 1.0000e-07\n",
      "Epoch 22/100\n",
      "31/31 [==============================] - 0s 2ms/step - loss: 103.3479 - lr: 1.1220e-07\n",
      "Epoch 23/100\n",
      "31/31 [==============================] - 0s 2ms/step - loss: 100.9974 - lr: 1.2589e-07\n",
      "Epoch 24/100\n",
      "31/31 [==============================] - 0s 2ms/step - loss: 98.8262 - lr: 1.4125e-07\n",
      "Epoch 25/100\n",
      "31/31 [==============================] - 0s 2ms/step - loss: 96.1285 - lr: 1.5849e-07\n",
      "Epoch 26/100\n",
      "31/31 [==============================] - 0s 1ms/step - loss: 93.7726 - lr: 1.7783e-07\n",
      "Epoch 27/100\n",
      "31/31 [==============================] - 0s 1ms/step - loss: 91.2305 - lr: 1.9953e-07\n",
      "Epoch 28/100\n",
      "31/31 [==============================] - 0s 2ms/step - loss: 88.9353 - lr: 2.2387e-07\n",
      "Epoch 29/100\n",
      "31/31 [==============================] - 0s 1ms/step - loss: 86.6741 - lr: 2.5119e-07\n",
      "Epoch 30/100\n",
      "31/31 [==============================] - 0s 2ms/step - loss: 84.7061 - lr: 2.8184e-07\n",
      "Epoch 31/100\n",
      "31/31 [==============================] - 0s 1ms/step - loss: 82.9735 - lr: 3.1623e-07\n",
      "Epoch 32/100\n",
      "31/31 [==============================] - 0s 2ms/step - loss: 81.3497 - lr: 3.5481e-07\n",
      "Epoch 33/100\n",
      "31/31 [==============================] - 0s 2ms/step - loss: 79.4677 - lr: 3.9811e-07\n",
      "Epoch 34/100\n",
      "31/31 [==============================] - 0s 2ms/step - loss: 78.5075 - lr: 4.4668e-07\n",
      "Epoch 35/100\n",
      "31/31 [==============================] - 0s 1ms/step - loss: 76.7241 - lr: 5.0119e-07\n",
      "Epoch 36/100\n",
      "31/31 [==============================] - 0s 1ms/step - loss: 75.5113 - lr: 5.6234e-07\n",
      "Epoch 37/100\n",
      "31/31 [==============================] - 0s 2ms/step - loss: 74.1163 - lr: 6.3096e-07\n",
      "Epoch 38/100\n",
      "31/31 [==============================] - 0s 1ms/step - loss: 72.7750 - lr: 7.0795e-07\n",
      "Epoch 39/100\n",
      "31/31 [==============================] - 0s 2ms/step - loss: 70.9878 - lr: 7.9433e-07\n",
      "Epoch 40/100\n",
      "31/31 [==============================] - 0s 2ms/step - loss: 71.3785 - lr: 8.9125e-07\n",
      "Epoch 41/100\n",
      "31/31 [==============================] - 0s 2ms/step - loss: 69.2546 - lr: 1.0000e-06\n",
      "Epoch 42/100\n",
      "31/31 [==============================] - 0s 2ms/step - loss: 67.3956 - lr: 1.1220e-06\n",
      "Epoch 43/100\n",
      "31/31 [==============================] - 0s 2ms/step - loss: 65.6595 - lr: 1.2589e-06\n",
      "Epoch 44/100\n",
      "31/31 [==============================] - 0s 1ms/step - loss: 64.2362 - lr: 1.4125e-06\n",
      "Epoch 45/100\n",
      "31/31 [==============================] - 0s 2ms/step - loss: 63.3119 - lr: 1.5849e-06\n",
      "Epoch 46/100\n",
      "31/31 [==============================] - 0s 2ms/step - loss: 62.3009 - lr: 1.7783e-06\n",
      "Epoch 47/100\n",
      "31/31 [==============================] - 0s 2ms/step - loss: 62.0944 - lr: 1.9953e-06\n",
      "Epoch 48/100\n",
      "31/31 [==============================] - 0s 1ms/step - loss: 61.9463 - lr: 2.2387e-06\n",
      "Epoch 49/100\n",
      "31/31 [==============================] - 0s 1ms/step - loss: 59.2194 - lr: 2.5119e-06\n",
      "Epoch 50/100\n",
      "31/31 [==============================] - 0s 2ms/step - loss: 56.6498 - lr: 2.8184e-06\n",
      "Epoch 51/100\n",
      "31/31 [==============================] - 0s 1ms/step - loss: 56.2552 - lr: 3.1623e-06\n",
      "Epoch 52/100\n",
      "31/31 [==============================] - 0s 2ms/step - loss: 54.5791 - lr: 3.5481e-06\n",
      "Epoch 53/100\n",
      "31/31 [==============================] - 0s 1ms/step - loss: 53.9899 - lr: 3.9811e-06\n",
      "Epoch 54/100\n",
      "31/31 [==============================] - 0s 2ms/step - loss: 54.2932 - lr: 4.4668e-06\n",
      "Epoch 55/100\n",
      "31/31 [==============================] - 0s 1ms/step - loss: 53.9822 - lr: 5.0119e-06\n",
      "Epoch 56/100\n",
      "31/31 [==============================] - 0s 1ms/step - loss: 51.3331 - lr: 5.6234e-06\n",
      "Epoch 57/100\n",
      "31/31 [==============================] - 0s 1ms/step - loss: 52.5649 - lr: 6.3096e-06\n",
      "Epoch 58/100\n",
      "31/31 [==============================] - 0s 1ms/step - loss: 49.4114 - lr: 7.0795e-06\n",
      "Epoch 59/100\n",
      "31/31 [==============================] - 0s 2ms/step - loss: 52.2607 - lr: 7.9433e-06\n",
      "Epoch 60/100\n",
      "31/31 [==============================] - 0s 2ms/step - loss: 49.5058 - lr: 8.9125e-06\n",
      "Epoch 61/100\n",
      "31/31 [==============================] - 0s 2ms/step - loss: 52.6324 - lr: 1.0000e-05\n",
      "Epoch 62/100\n",
      "31/31 [==============================] - 0s 1ms/step - loss: 50.5355 - lr: 1.1220e-05\n",
      "Epoch 63/100\n",
      "31/31 [==============================] - 0s 1ms/step - loss: 48.0699 - lr: 1.2589e-05\n",
      "Epoch 64/100\n",
      "31/31 [==============================] - 0s 2ms/step - loss: 46.6655 - lr: 1.4125e-05\n",
      "Epoch 65/100\n",
      "31/31 [==============================] - 0s 1ms/step - loss: 51.6767 - lr: 1.5849e-05\n",
      "Epoch 66/100\n",
      "31/31 [==============================] - 0s 2ms/step - loss: 68.1342 - lr: 1.7783e-05\n",
      "Epoch 67/100\n",
      "31/31 [==============================] - 0s 2ms/step - loss: 50.2954 - lr: 1.9953e-05\n",
      "Epoch 68/100\n",
      "31/31 [==============================] - 0s 1ms/step - loss: 66.2665 - lr: 2.2387e-05\n",
      "Epoch 69/100\n",
      "31/31 [==============================] - 0s 1ms/step - loss: 50.0950 - lr: 2.5119e-05\n",
      "Epoch 70/100\n",
      "31/31 [==============================] - 0s 2ms/step - loss: 57.0731 - lr: 2.8184e-05\n",
      "Epoch 71/100\n",
      "31/31 [==============================] - 0s 2ms/step - loss: 48.3642 - lr: 3.1623e-05\n",
      "Epoch 72/100\n",
      "31/31 [==============================] - 0s 2ms/step - loss: 47.2861 - lr: 3.5481e-05\n",
      "Epoch 73/100\n",
      "31/31 [==============================] - 0s 1ms/step - loss: 52.8172 - lr: 3.9811e-05\n",
      "Epoch 74/100\n",
      "31/31 [==============================] - 0s 1ms/step - loss: 48.0155 - lr: 4.4668e-05\n",
      "Epoch 75/100\n",
      "31/31 [==============================] - 0s 2ms/step - loss: 99.8811 - lr: 5.0119e-05\n",
      "Epoch 76/100\n",
      "31/31 [==============================] - 0s 2ms/step - loss: 46.4940 - lr: 5.6234e-05\n",
      "Epoch 77/100\n",
      "31/31 [==============================] - 0s 2ms/step - loss: 65.5556 - lr: 6.3096e-05\n",
      "Epoch 78/100\n",
      "31/31 [==============================] - 0s 1ms/step - loss: 93.0502 - lr: 7.0795e-05\n",
      "Epoch 79/100\n",
      "31/31 [==============================] - 0s 2ms/step - loss: 1330.5920 - lr: 7.9433e-05\n",
      "Epoch 80/100\n",
      "31/31 [==============================] - 0s 2ms/step - loss: 2102.3684 - lr: 8.9125e-05\n",
      "Epoch 81/100\n",
      "31/31 [==============================] - 0s 2ms/step - loss: 1705.8859 - lr: 1.0000e-04\n",
      "Epoch 82/100\n",
      "31/31 [==============================] - 0s 1ms/step - loss: 932948.5000 - lr: 1.1220e-04\n",
      "Epoch 83/100\n",
      "31/31 [==============================] - 0s 1ms/step - loss: 1506.7170 - lr: 1.2589e-04\n",
      "Epoch 84/100\n",
      "31/31 [==============================] - 0s 2ms/step - loss: 1344.8958 - lr: 1.4125e-04\n",
      "Epoch 85/100\n",
      "31/31 [==============================] - 0s 1ms/step - loss: 1193.4918 - lr: 1.5849e-04\n",
      "Epoch 86/100\n",
      "31/31 [==============================] - 0s 1ms/step - loss: 1053.5281 - lr: 1.7783e-04\n",
      "Epoch 87/100\n",
      "31/31 [==============================] - 0s 1ms/step - loss: 926.5833 - lr: 1.9953e-04\n",
      "Epoch 88/100\n",
      "31/31 [==============================] - 0s 2ms/step - loss: 815.5401 - lr: 2.2387e-04\n",
      "Epoch 89/100\n",
      "31/31 [==============================] - 0s 1ms/step - loss: 720.8680 - lr: 2.5119e-04\n",
      "Epoch 90/100\n",
      "31/31 [==============================] - 0s 2ms/step - loss: 642.6343 - lr: 2.8184e-04\n",
      "Epoch 91/100\n",
      "31/31 [==============================] - 0s 2ms/step - loss: 580.9614 - lr: 3.1623e-04\n",
      "Epoch 92/100\n",
      "31/31 [==============================] - 0s 1ms/step - loss: 534.3175 - lr: 3.5481e-04\n",
      "Epoch 93/100\n",
      "31/31 [==============================] - 0s 2ms/step - loss: 500.1570 - lr: 3.9811e-04\n",
      "Epoch 94/100\n",
      "31/31 [==============================] - 0s 2ms/step - loss: 476.8855 - lr: 4.4668e-04\n",
      "Epoch 95/100\n",
      "31/31 [==============================] - 0s 2ms/step - loss: 462.3821 - lr: 5.0119e-04\n",
      "Epoch 96/100\n",
      "31/31 [==============================] - 0s 2ms/step - loss: 453.3675 - lr: 5.6234e-04\n",
      "Epoch 97/100\n",
      "31/31 [==============================] - 0s 1ms/step - loss: 448.8622 - lr: 6.3096e-04\n",
      "Epoch 98/100\n",
      "31/31 [==============================] - 0s 2ms/step - loss: 446.4262 - lr: 7.0795e-04\n",
      "Epoch 99/100\n",
      "31/31 [==============================] - 0s 2ms/step - loss: 445.5841 - lr: 7.9433e-04\n",
      "Epoch 100/100\n",
      "31/31 [==============================] - 0s 1ms/step - loss: 445.2668 - lr: 8.9125e-04\n"
     ]
    }
   ],
   "source": [
    "# Train the model\n",
    "history = model_tune.fit(dataset, epochs=100, callbacks=[lr_schedule])"
   ]
  },
  {
   "cell_type": "markdown",
   "metadata": {
    "id": "Sz9yLyRkkuet"
   },
   "source": [
    "Next step is to plot the results of the training. You will visualize the loss at each value of the learning rate."
   ]
  },
  {
   "cell_type": "code",
   "execution_count": 19,
   "metadata": {
    "colab": {
     "base_uri": "https://localhost:8080/",
     "height": 405
    },
    "executionInfo": {
     "elapsed": 940,
     "status": "ok",
     "timestamp": 1655245902385,
     "user": {
      "displayName": "Garrett McCue",
      "userId": "12434656186696613657"
     },
     "user_tz": 300
    },
    "id": "2ZaNsM2IgCd_",
    "outputId": "b3a5beb5-a3d0-49c1-d0eb-761953ffa96e"
   },
   "outputs": [
    {
     "data": {
      "text/plain": [
       "(1e-08, 0.001, 0.0, 300.0)"
      ]
     },
     "execution_count": 19,
     "metadata": {},
     "output_type": "execute_result"
    },
    {
     "data": {
      "image/png": "[encoded data removed]",
      "text/plain": [
       "<Figure size 720x432 with 1 Axes>"
      ]
     },
     "metadata": {
      "needs_background": "light"
     },
     "output_type": "display_data"
    }
   ],
   "source": [
    "# Define the learning rate array\n",
    "lrs = 1e-8 * (10 ** (np.arange(100) / 20))\n",
    "\n",
    "# Set the figure size\n",
    "plt.figure(figsize=(10, 6))\n",
    "\n",
    "# Set the grid\n",
    "plt.grid(True)\n",
    "\n",
    "# Plot the loss in log scale\n",
    "plt.semilogx(lrs, history.history[\"loss\"])\n",
    "\n",
    "# Increase the tickmarks size\n",
    "plt.tick_params('both', length=10, width=1, which='both')\n",
    "\n",
    "# Set the plot boundaries\n",
    "plt.axis([1e-8, 1e-3, 0, 300])"
   ]
  },
  {
   "cell_type": "markdown",
   "metadata": {
    "id": "obCq2g0qn0GD"
   },
   "source": [
    "The generated graph above shows the values of the range of learning rates that leads to lower losses (i.e. sloping downward) and also which ones cause the training to become unstable (i.e. jagged edges and pointing upwards). In general, you will want to pick a point in a downward slope. That means the network is still learning at that point and is stable. Choosing close to the minimum point of the graph will make the training converge to that loss value quicker, as will be shown in the next cells.\n",
    "\n",
    "First, you will initialize the same model architecture again."
   ]
  },
  {
   "cell_type": "code",
   "execution_count": 20,
   "metadata": {
    "executionInfo": {
     "elapsed": 131,
     "status": "ok",
     "timestamp": 1655245956857,
     "user": {
      "displayName": "Garrett McCue",
      "userId": "12434656186696613657"
     },
     "user_tz": 300
    },
    "id": "F7vzeS6BKUb_"
   },
   "outputs": [],
   "source": [
    "# Build the model\n",
    "model_tune = tf.keras.models.Sequential([\n",
    "  tf.keras.layers.Dense(10, activation=\"relu\", input_shape=[window_size]),\n",
    "  tf.keras.layers.Dense(10, activation=\"relu\"),\n",
    "  tf.keras.layers.Dense(1)\n",
    "])"
   ]
  },
  {
   "cell_type": "markdown",
   "metadata": {
    "id": "9gjrVfgWp3ku"
   },
   "source": [
    "You will then set the optimizer with a learning rate close to the minimum. It is set to `4e-6` initially but feel free to change based on your results."
   ]
  },
  {
   "cell_type": "code",
   "execution_count": 21,
   "metadata": {
    "executionInfo": {
     "elapsed": 129,
     "status": "ok",
     "timestamp": 1655245958604,
     "user": {
      "displayName": "Garrett McCue",
      "userId": "12434656186696613657"
     },
     "user_tz": 300
    },
    "id": "nVHuxnXMKjja"
   },
   "outputs": [],
   "source": [
    "# Set the optimizer with the tuned learning rate\n",
    "optimizer = tf.keras.optimizers.SGD(learning_rate=4e-6, momentum=0.9)"
   ]
  },
  {
   "cell_type": "markdown",
   "metadata": {
    "id": "pyrhSDU5qPn6"
   },
   "source": [
    "You can then compile and train the model as before. Observe the loss values and compare it to the output of the baseline model you had before. Most likely, you will have met the final loss value of the `model_baseline` within the first 50 epochs of training this `model_tune`. You will also likely have a lower loss after all 100 epochs are done."
   ]
  },
  {
   "cell_type": "code",
   "execution_count": 22,
   "metadata": {
    "colab": {
     "base_uri": "https://localhost:8080/"
    },
    "executionInfo": {
     "elapsed": 27886,
     "status": "ok",
     "timestamp": 1655246002113,
     "user": {
      "displayName": "Garrett McCue",
      "userId": "12434656186696613657"
     },
     "user_tz": 300
    },
    "id": "rDNeYqqzqQ-s",
    "outputId": "6b97fd8c-3e85-4dd7-a548-c2c1bc88730a"
   },
   "outputs": [
    {
     "name": "stdout",
     "output_type": "stream",
     "text": [
      "Epoch 1/100\n",
      "31/31 [==============================] - 1s 2ms/step - loss: 441.0459\n",
      "Epoch 2/100\n",
      "31/31 [==============================] - 0s 2ms/step - loss: 79.9037\n",
      "Epoch 3/100\n",
      "31/31 [==============================] - 0s 1ms/step - loss: 73.2668\n",
      "Epoch 4/100\n",
      "31/31 [==============================] - 0s 1ms/step - loss: 68.0270\n",
      "Epoch 5/100\n",
      "31/31 [==============================] - 0s 1ms/step - loss: 66.7562\n",
      "Epoch 6/100\n",
      "31/31 [==============================] - 0s 1ms/step - loss: 61.5292\n",
      "Epoch 7/100\n",
      "31/31 [==============================] - 0s 2ms/step - loss: 59.5295\n",
      "Epoch 8/100\n",
      "31/31 [==============================] - 0s 2ms/step - loss: 58.1151\n",
      "Epoch 9/100\n",
      "31/31 [==============================] - 0s 2ms/step - loss: 56.3131\n",
      "Epoch 10/100\n",
      "31/31 [==============================] - 0s 2ms/step - loss: 55.3125\n",
      "Epoch 11/100\n",
      "31/31 [==============================] - 0s 2ms/step - loss: 54.0779\n",
      "Epoch 12/100\n",
      "31/31 [==============================] - 0s 2ms/step - loss: 53.3609\n",
      "Epoch 13/100\n",
      "31/31 [==============================] - 0s 1ms/step - loss: 53.3692\n",
      "Epoch 14/100\n",
      "31/31 [==============================] - 0s 2ms/step - loss: 51.8911\n",
      "Epoch 15/100\n",
      "31/31 [==============================] - 0s 2ms/step - loss: 52.8619\n",
      "Epoch 16/100\n",
      "31/31 [==============================] - 0s 1ms/step - loss: 51.4493\n",
      "Epoch 17/100\n",
      "31/31 [==============================] - 0s 2ms/step - loss: 51.4742\n",
      "Epoch 18/100\n",
      "31/31 [==============================] - 0s 1ms/step - loss: 49.7163\n",
      "Epoch 19/100\n",
      "31/31 [==============================] - 0s 2ms/step - loss: 50.2793\n",
      "Epoch 20/100\n",
      "31/31 [==============================] - 0s 1ms/step - loss: 51.3029\n",
      "Epoch 21/100\n",
      "31/31 [==============================] - 0s 2ms/step - loss: 49.9469\n",
      "Epoch 22/100\n",
      "31/31 [==============================] - 0s 2ms/step - loss: 48.7643\n",
      "Epoch 23/100\n",
      "31/31 [==============================] - 0s 1ms/step - loss: 47.9149\n",
      "Epoch 24/100\n",
      "31/31 [==============================] - 0s 2ms/step - loss: 48.7268\n",
      "Epoch 25/100\n",
      "31/31 [==============================] - 0s 1ms/step - loss: 48.9893\n",
      "Epoch 26/100\n",
      "31/31 [==============================] - 0s 1ms/step - loss: 47.1779\n",
      "Epoch 27/100\n",
      "31/31 [==============================] - 0s 1ms/step - loss: 47.0566\n",
      "Epoch 28/100\n",
      "31/31 [==============================] - 0s 1ms/step - loss: 47.1596\n",
      "Epoch 29/100\n",
      "31/31 [==============================] - 0s 1ms/step - loss: 47.3461\n",
      "Epoch 30/100\n",
      "31/31 [==============================] - 0s 2ms/step - loss: 48.6941\n",
      "Epoch 31/100\n",
      "31/31 [==============================] - 0s 2ms/step - loss: 49.2759\n",
      "Epoch 32/100\n",
      "31/31 [==============================] - 0s 1ms/step - loss: 46.7563\n",
      "Epoch 33/100\n",
      "31/31 [==============================] - 0s 1ms/step - loss: 47.2076\n",
      "Epoch 34/100\n",
      "31/31 [==============================] - 0s 1ms/step - loss: 46.0826\n",
      "Epoch 35/100\n",
      "31/31 [==============================] - 0s 2ms/step - loss: 46.2142\n",
      "Epoch 36/100\n",
      "31/31 [==============================] - 0s 2ms/step - loss: 45.5708\n",
      "Epoch 37/100\n",
      "31/31 [==============================] - 0s 2ms/step - loss: 46.1931\n",
      "Epoch 38/100\n",
      "31/31 [==============================] - 0s 1ms/step - loss: 45.8636\n",
      "Epoch 39/100\n",
      "31/31 [==============================] - 0s 2ms/step - loss: 46.8750\n",
      "Epoch 40/100\n",
      "31/31 [==============================] - 0s 1ms/step - loss: 46.7294\n",
      "Epoch 41/100\n",
      "31/31 [==============================] - 0s 1ms/step - loss: 46.8080\n",
      "Epoch 42/100\n",
      "31/31 [==============================] - 0s 2ms/step - loss: 46.2137\n",
      "Epoch 43/100\n",
      "31/31 [==============================] - 0s 2ms/step - loss: 45.7349\n",
      "Epoch 44/100\n",
      "31/31 [==============================] - 0s 2ms/step - loss: 45.9366\n",
      "Epoch 45/100\n",
      "31/31 [==============================] - 0s 1ms/step - loss: 46.9569\n",
      "Epoch 46/100\n",
      "31/31 [==============================] - 0s 1ms/step - loss: 46.2312\n",
      "Epoch 47/100\n",
      "31/31 [==============================] - 0s 1ms/step - loss: 45.7759\n",
      "Epoch 48/100\n",
      "31/31 [==============================] - 0s 2ms/step - loss: 45.0927\n",
      "Epoch 49/100\n",
      "31/31 [==============================] - 0s 1ms/step - loss: 45.5893\n",
      "Epoch 50/100\n",
      "31/31 [==============================] - 0s 1ms/step - loss: 45.3060\n",
      "Epoch 51/100\n",
      "31/31 [==============================] - 0s 2ms/step - loss: 44.5808\n",
      "Epoch 52/100\n",
      "31/31 [==============================] - 0s 1ms/step - loss: 44.5486\n",
      "Epoch 53/100\n",
      "31/31 [==============================] - 0s 1ms/step - loss: 45.3163\n",
      "Epoch 54/100\n",
      "31/31 [==============================] - 0s 1ms/step - loss: 45.0227\n",
      "Epoch 55/100\n",
      "31/31 [==============================] - 0s 2ms/step - loss: 45.4158\n",
      "Epoch 56/100\n",
      "31/31 [==============================] - 0s 1ms/step - loss: 45.9197\n",
      "Epoch 57/100\n",
      "31/31 [==============================] - 0s 2ms/step - loss: 44.4889\n",
      "Epoch 58/100\n",
      "31/31 [==============================] - 0s 1ms/step - loss: 45.2168\n",
      "Epoch 59/100\n",
      "31/31 [==============================] - 0s 2ms/step - loss: 44.6191\n",
      "Epoch 60/100\n",
      "31/31 [==============================] - 0s 2ms/step - loss: 44.1876\n",
      "Epoch 61/100\n",
      "31/31 [==============================] - 0s 2ms/step - loss: 43.7996\n",
      "Epoch 62/100\n",
      "31/31 [==============================] - 0s 2ms/step - loss: 43.9139\n",
      "Epoch 63/100\n",
      "31/31 [==============================] - 0s 2ms/step - loss: 45.6555\n",
      "Epoch 64/100\n",
      "31/31 [==============================] - 0s 2ms/step - loss: 45.0486\n",
      "Epoch 65/100\n",
      "31/31 [==============================] - 0s 2ms/step - loss: 43.8903\n",
      "Epoch 66/100\n",
      "31/31 [==============================] - 0s 2ms/step - loss: 44.0604\n",
      "Epoch 67/100\n",
      "31/31 [==============================] - 0s 1ms/step - loss: 44.1359\n",
      "Epoch 68/100\n",
      "31/31 [==============================] - 0s 2ms/step - loss: 44.8803\n",
      "Epoch 69/100\n",
      "31/31 [==============================] - 0s 2ms/step - loss: 44.9351\n",
      "Epoch 70/100\n",
      "31/31 [==============================] - 0s 1ms/step - loss: 44.2715\n",
      "Epoch 71/100\n",
      "31/31 [==============================] - 0s 1ms/step - loss: 46.0157\n",
      "Epoch 72/100\n",
      "31/31 [==============================] - 0s 2ms/step - loss: 44.2659\n",
      "Epoch 73/100\n",
      "31/31 [==============================] - 0s 1ms/step - loss: 43.4196\n",
      "Epoch 74/100\n",
      "31/31 [==============================] - 0s 2ms/step - loss: 44.1552\n",
      "Epoch 75/100\n",
      "31/31 [==============================] - 0s 1ms/step - loss: 44.1983\n",
      "Epoch 76/100\n",
      "31/31 [==============================] - 0s 2ms/step - loss: 43.2422\n",
      "Epoch 77/100\n",
      "31/31 [==============================] - 0s 1ms/step - loss: 43.5586\n",
      "Epoch 78/100\n",
      "31/31 [==============================] - 0s 2ms/step - loss: 43.8931\n",
      "Epoch 79/100\n",
      "31/31 [==============================] - 0s 1ms/step - loss: 43.3429\n",
      "Epoch 80/100\n",
      "31/31 [==============================] - 0s 1ms/step - loss: 43.3925\n",
      "Epoch 81/100\n",
      "31/31 [==============================] - 0s 2ms/step - loss: 43.6345\n",
      "Epoch 82/100\n",
      "31/31 [==============================] - 0s 2ms/step - loss: 43.1668\n",
      "Epoch 83/100\n",
      "31/31 [==============================] - 0s 2ms/step - loss: 44.3752\n",
      "Epoch 84/100\n",
      "31/31 [==============================] - 0s 2ms/step - loss: 44.2615\n",
      "Epoch 85/100\n",
      "31/31 [==============================] - 0s 2ms/step - loss: 43.0510\n",
      "Epoch 86/100\n",
      "31/31 [==============================] - 0s 1ms/step - loss: 43.7034\n",
      "Epoch 87/100\n",
      "31/31 [==============================] - 0s 2ms/step - loss: 42.8907\n",
      "Epoch 88/100\n",
      "31/31 [==============================] - 0s 1ms/step - loss: 43.4176\n",
      "Epoch 89/100\n",
      "31/31 [==============================] - 0s 2ms/step - loss: 42.8207\n",
      "Epoch 90/100\n",
      "31/31 [==============================] - 0s 2ms/step - loss: 43.9274\n",
      "Epoch 91/100\n",
      "31/31 [==============================] - 0s 1ms/step - loss: 43.2015\n",
      "Epoch 92/100\n",
      "31/31 [==============================] - 0s 2ms/step - loss: 43.7605\n",
      "Epoch 93/100\n",
      "31/31 [==============================] - 0s 1ms/step - loss: 43.4053\n",
      "Epoch 94/100\n",
      "31/31 [==============================] - 0s 1ms/step - loss: 43.0248\n",
      "Epoch 95/100\n",
      "31/31 [==============================] - 0s 1ms/step - loss: 42.7555\n",
      "Epoch 96/100\n",
      "31/31 [==============================] - 0s 1ms/step - loss: 42.9134\n",
      "Epoch 97/100\n",
      "31/31 [==============================] - 0s 1ms/step - loss: 44.1575\n",
      "Epoch 98/100\n",
      "31/31 [==============================] - 0s 2ms/step - loss: 42.9282\n",
      "Epoch 99/100\n",
      "31/31 [==============================] - 0s 1ms/step - loss: 43.3538\n",
      "Epoch 100/100\n",
      "31/31 [==============================] - 0s 2ms/step - loss: 42.6801\n"
     ]
    }
   ],
   "source": [
    "# Set the training parameters\n",
    "model_tune.compile(loss=\"mse\", optimizer=optimizer)\n",
    "\n",
    "# Train the model\n",
    "history = model_tune.fit(dataset, epochs=100)"
   ]
  },
  {
   "cell_type": "markdown",
   "metadata": {
    "id": "8W-zX3LCrZc2"
   },
   "source": [
    "You can plot the `loss` values by getting it from the [History](https://www.tensorflow.org/api_docs/python/tf/keras/callbacks/History) object returned by the `fit()` method. As you can see, the model is still trending downward after the training."
   ]
  },
  {
   "cell_type": "code",
   "execution_count": 23,
   "metadata": {
    "colab": {
     "base_uri": "https://localhost:8080/",
     "height": 265
    },
    "executionInfo": {
     "elapsed": 349,
     "status": "ok",
     "timestamp": 1655246249881,
     "user": {
      "displayName": "Garrett McCue",
      "userId": "12434656186696613657"
     },
     "user_tz": 300
    },
    "id": "iXBMO1HM9AHX",
    "outputId": "f935463d-cf31-4d28-b73f-1e1c95cb8cca"
   },
   "outputs": [
    {
     "data": {
      "image/png": "[encoded data removed]",
      "text/plain": [
       "<Figure size 432x288 with 1 Axes>"
      ]
     },
     "metadata": {
      "needs_background": "light"
     },
     "output_type": "display_data"
    }
   ],
   "source": [
    "# Plot the loss\n",
    "loss = history.history['loss']\n",
    "epochs = range(len(loss))\n",
    "plt.plot(epochs, loss, 'b', label='Training Loss')\n",
    "plt.show()"
   ]
  },
  {
   "cell_type": "code",
   "execution_count": 24,
   "metadata": {
    "colab": {
     "base_uri": "https://localhost:8080/",
     "height": 265
    },
    "executionInfo": {
     "elapsed": 349,
     "status": "ok",
     "timestamp": 1655246256945,
     "user": {
      "displayName": "Garrett McCue",
      "userId": "12434656186696613657"
     },
     "user_tz": 300
    },
    "id": "xakiRU7R7WAo",
    "outputId": "738610eb-cdde-4ad5-d1b3-852ffa75f22a"
   },
   "outputs": [
    {
     "data": {
      "image/png": "[encoded data removed]",
      "text/plain": [
       "<Figure size 432x288 with 1 Axes>"
      ]
     },
     "metadata": {
      "needs_background": "light"
     },
     "output_type": "display_data"
    }
   ],
   "source": [
    "# Plot all but the first 10\n",
    "loss = history.history['loss']\n",
    "epochs = range(10, len(loss))\n",
    "plot_loss = loss[10:]\n",
    "plt.plot(epochs, plot_loss, 'b', label='Training Loss')\n",
    "plt.show()"
   ]
  },
  {
   "cell_type": "markdown",
   "metadata": {
    "id": "XxDbVYFusI3O"
   },
   "source": [
    "You can get the preictions again and overlay it on the validation set."
   ]
  },
  {
   "cell_type": "code",
   "execution_count": 25,
   "metadata": {
    "colab": {
     "base_uri": "https://localhost:8080/",
     "height": 388
    },
    "executionInfo": {
     "elapsed": 23522,
     "status": "ok",
     "timestamp": 1655246286805,
     "user": {
      "displayName": "Garrett McCue",
      "userId": "12434656186696613657"
     },
     "user_tz": 300
    },
    "id": "mIi2fTzPTJxe",
    "outputId": "111a4256-da01-4b5f-b448-5029d96786db"
   },
   "outputs": [
    {
     "data": {
      "image/png": "[encoded data removed]",
      "text/plain": [
       "<Figure size 720x432 with 1 Axes>"
      ]
     },
     "metadata": {
      "needs_background": "light"
     },
     "output_type": "display_data"
    }
   ],
   "source": [
    "# Initialize a list\n",
    "forecast = []\n",
    "\n",
    "# Reduce the original series\n",
    "forecast_series = series[split_time - window_size:]\n",
    "\n",
    "# Use the model to predict data points per window size\n",
    "for time in range(len(forecast_series) - window_size):\n",
    "  forecast.append(model_tune.predict(forecast_series[time:time + window_size][np.newaxis]))\n",
    "\n",
    "# Convert to a numpy array and drop single dimensional axes\n",
    "results = np.array(forecast).squeeze()\n",
    "\n",
    "# Plot the results\n",
    "plot_series(time_valid, (x_valid, results))"
   ]
  },
  {
   "cell_type": "markdown",
   "metadata": {
    "id": "KExPe7qJsTxk"
   },
   "source": [
    "Finally, you can compute the metrics and you should arrive at similar figures compared to the baseline. If it is much worse, then the model might have overfitted and you can use techniques you know to avoid it (e.g. adding dropout)."
   ]
  },
  {
   "cell_type": "code",
   "execution_count": 26,
   "metadata": {
    "colab": {
     "base_uri": "https://localhost:8080/"
    },
    "executionInfo": {
     "elapsed": 135,
     "status": "ok",
     "timestamp": 1655246291515,
     "user": {
      "displayName": "Garrett McCue",
      "userId": "12434656186696613657"
     },
     "user_tz": 300
    },
    "id": "W-GPjL2wv0yc",
    "outputId": "95cac3a5-cd3f-4fa9-80b8-ddb7f75c55ef"
   },
   "outputs": [
    {
     "name": "stdout",
     "output_type": "stream",
     "text": [
      "48.857883\n",
      "5.3933387\n"
     ]
    }
   ],
   "source": [
    "print(tf.keras.metrics.mean_squared_error(x_valid, results).numpy())\n",
    "print(tf.keras.metrics.mean_absolute_error(x_valid, results).numpy())"
   ]
  },
  {
   "cell_type": "markdown",
   "metadata": {
    "id": "U9ViZ1Mcs11C"
   },
   "source": [
    "## Wrap Up\n",
    "\n",
    "This concludes the exercise on using a deep neural network for forecasting. Along the way, you did some hyperparameter tuning, particularly on the learning rate. You will be using this technique as well in the next labs. Next week, you will be using recurrent neural networks to build your forecasting model. See you there and keep it up!"
   ]
  }
 ],
 "metadata": {
  "colab": {
   "collapsed_sections": [],
   "name": "C4_W2_Lab_3_deep_NN.ipynb",
   "provenance": [
    {
     "file_id": "https://github.com/https-deeplearning-ai/tensorflow-1-public/blob/main/C4/W2/ungraded_labs/C4_W2_Lab_3_deep_NN.ipynb",
     "timestamp": 1655245482441
    }
   ]
  },
  "gpuClass": "standard",
  "kernelspec": {
   "display_name": "Python 3 (ipykernel)",
   "language": "python",
   "name": "python3"
  },
  "language_info": {
   "codemirror_mode": {
    "name": "ipython",
    "version": 3
   },
   "file_extension": ".py",
   "mimetype": "text/x-python",
   "name": "python",
   "nbconvert_exporter": "python",
   "pygments_lexer": "ipython3",
   "version": "3.8.12"
  }
 },
 "nbformat": 4,
 "nbformat_minor": 4
}
