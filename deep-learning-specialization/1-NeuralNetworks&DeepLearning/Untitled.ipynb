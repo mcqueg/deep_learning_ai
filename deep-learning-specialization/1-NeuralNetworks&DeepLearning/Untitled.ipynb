{
 "cells": [
  {
   "cell_type": "code",
   "execution_count": 1,
   "id": "08dcf5cd-ff57-46d8-abfb-93121196cc43",
   "metadata": {},
   "outputs": [],
   "source": [
    "import numpy as np\n"
   ]
  },
  {
   "cell_type": "code",
   "execution_count": 6,
   "id": "5fcd7417-6bd5-4c15-9336-537bdd5d50c6",
   "metadata": {},
   "outputs": [
    {
     "data": {
      "text/plain": [
       "array([1.  , 0.01, 0.01])"
      ]
     },
     "execution_count": 6,
     "metadata": {},
     "output_type": "execute_result"
    }
   ],
   "source": [
    "Z = [0.5, -.2, 0]\n",
    "Z = np.array(Z)\n",
    "dZ = np.zeros_like(Z)\n",
    "dZ[Z > 0] = 1\n",
    "dZ[Z <= 0] = 0.01\n",
    "dZ"
   ]
  },
  {
   "cell_type": "code",
   "execution_count": null,
   "id": "f4a27b63-24df-4696-8f8b-e9c2d6bdcceb",
   "metadata": {},
   "outputs": [],
   "source": []
  }
 ],
 "metadata": {
  "kernelspec": {
   "display_name": "Python 3 (ipykernel)",
   "language": "python",
   "name": "python3"
  },
  "language_info": {
   "codemirror_mode": {
    "name": "ipython",
    "version": 3
   },
   "file_extension": ".py",
   "mimetype": "text/x-python",
   "name": "python",
   "nbconvert_exporter": "python",
   "pygments_lexer": "ipython3",
   "version": "3.8.12"
  }
 },
 "nbformat": 4,
 "nbformat_minor": 5
}
